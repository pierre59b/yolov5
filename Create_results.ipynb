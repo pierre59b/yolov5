{
 "cells": [
  {
   "cell_type": "markdown",
   "metadata": {},
   "source": [
    "# YOLOv5 experiment"
   ]
  },
  {
   "cell_type": "code",
   "execution_count": 11,
   "metadata": {},
   "outputs": [],
   "source": [
    "import pandas as pd\n",
    "import numpy as np\n",
    "import glob\n",
    "import os"
   ]
  },
  {
   "cell_type": "markdown",
   "metadata": {},
   "source": [
    "## Import youtube-bb annotations of the validation test"
   ]
  },
  {
   "cell_type": "code",
   "execution_count": 190,
   "metadata": {},
   "outputs": [],
   "source": [
    "ytbb = pd.read_csv(\"./youtube_boundingboxes_detection_validation.csv\", header = None, \n",
    "                   names = [\"youtube_id\", \"timestamp_ms\", \"class_id\", \"class_name\", \"object_id\", \"object_presence\",\n",
    "                            \"xmin\", \"xmax\", \"ymin\", \"ymax\"])"
   ]
  },
  {
   "cell_type": "code",
   "execution_count": 191,
   "metadata": {},
   "outputs": [],
   "source": [
    "ytbb = ytbb.sort_values(['youtube_id', 'class_id', 'object_id', 'timestamp_ms'])"
   ]
  },
  {
   "cell_type": "code",
   "execution_count": 192,
   "metadata": {},
   "outputs": [
    {
     "data": {
      "text/html": [
       "<div>\n",
       "<style scoped>\n",
       "    .dataframe tbody tr th:only-of-type {\n",
       "        vertical-align: middle;\n",
       "    }\n",
       "\n",
       "    .dataframe tbody tr th {\n",
       "        vertical-align: top;\n",
       "    }\n",
       "\n",
       "    .dataframe thead th {\n",
       "        text-align: right;\n",
       "    }\n",
       "</style>\n",
       "<table border=\"1\" class=\"dataframe\">\n",
       "  <thead>\n",
       "    <tr style=\"text-align: right;\">\n",
       "      <th></th>\n",
       "      <th>youtube_id</th>\n",
       "      <th>timestamp_ms</th>\n",
       "      <th>class_id</th>\n",
       "      <th>class_name</th>\n",
       "      <th>object_id</th>\n",
       "      <th>object_presence</th>\n",
       "      <th>xmin</th>\n",
       "      <th>xmax</th>\n",
       "      <th>ymin</th>\n",
       "      <th>ymax</th>\n",
       "    </tr>\n",
       "  </thead>\n",
       "  <tbody>\n",
       "    <tr>\n",
       "      <td>614707</td>\n",
       "      <td>--6SUm2LGfQ</td>\n",
       "      <td>0</td>\n",
       "      <td>1</td>\n",
       "      <td>bird</td>\n",
       "      <td>0</td>\n",
       "      <td>present</td>\n",
       "      <td>0.403</td>\n",
       "      <td>0.539</td>\n",
       "      <td>0.220000</td>\n",
       "      <td>0.553333</td>\n",
       "    </tr>\n",
       "    <tr>\n",
       "      <td>614708</td>\n",
       "      <td>--6SUm2LGfQ</td>\n",
       "      <td>1000</td>\n",
       "      <td>1</td>\n",
       "      <td>bird</td>\n",
       "      <td>0</td>\n",
       "      <td>present</td>\n",
       "      <td>0.408</td>\n",
       "      <td>0.548</td>\n",
       "      <td>0.206667</td>\n",
       "      <td>0.563333</td>\n",
       "    </tr>\n",
       "    <tr>\n",
       "      <td>614709</td>\n",
       "      <td>--6SUm2LGfQ</td>\n",
       "      <td>2000</td>\n",
       "      <td>1</td>\n",
       "      <td>bird</td>\n",
       "      <td>0</td>\n",
       "      <td>present</td>\n",
       "      <td>0.413</td>\n",
       "      <td>0.531</td>\n",
       "      <td>0.156667</td>\n",
       "      <td>0.525000</td>\n",
       "    </tr>\n",
       "    <tr>\n",
       "      <td>614710</td>\n",
       "      <td>--6SUm2LGfQ</td>\n",
       "      <td>3000</td>\n",
       "      <td>1</td>\n",
       "      <td>bird</td>\n",
       "      <td>0</td>\n",
       "      <td>present</td>\n",
       "      <td>0.419</td>\n",
       "      <td>0.519</td>\n",
       "      <td>0.150000</td>\n",
       "      <td>0.485000</td>\n",
       "    </tr>\n",
       "    <tr>\n",
       "      <td>614711</td>\n",
       "      <td>--6SUm2LGfQ</td>\n",
       "      <td>4000</td>\n",
       "      <td>1</td>\n",
       "      <td>bird</td>\n",
       "      <td>0</td>\n",
       "      <td>present</td>\n",
       "      <td>0.375</td>\n",
       "      <td>0.529</td>\n",
       "      <td>0.133333</td>\n",
       "      <td>0.568333</td>\n",
       "    </tr>\n",
       "  </tbody>\n",
       "</table>\n",
       "</div>"
      ],
      "text/plain": [
       "         youtube_id  timestamp_ms  class_id class_name  object_id  \\\n",
       "614707  --6SUm2LGfQ             0         1       bird          0   \n",
       "614708  --6SUm2LGfQ          1000         1       bird          0   \n",
       "614709  --6SUm2LGfQ          2000         1       bird          0   \n",
       "614710  --6SUm2LGfQ          3000         1       bird          0   \n",
       "614711  --6SUm2LGfQ          4000         1       bird          0   \n",
       "\n",
       "       object_presence   xmin   xmax      ymin      ymax  \n",
       "614707         present  0.403  0.539  0.220000  0.553333  \n",
       "614708         present  0.408  0.548  0.206667  0.563333  \n",
       "614709         present  0.413  0.531  0.156667  0.525000  \n",
       "614710         present  0.419  0.519  0.150000  0.485000  \n",
       "614711         present  0.375  0.529  0.133333  0.568333  "
      ]
     },
     "execution_count": 192,
     "metadata": {},
     "output_type": "execute_result"
    }
   ],
   "source": [
    "ytbb.head()"
   ]
  },
  {
   "cell_type": "markdown",
   "metadata": {},
   "source": [
    "## Import our results and merge the csv files"
   ]
  },
  {
   "cell_type": "code",
   "execution_count": 207,
   "metadata": {},
   "outputs": [],
   "source": [
    "extension = 'csv'\n",
    "all_filenames = [i for i in glob.glob('inference\\\\output\\\\*.{}'.format(extension))]\n",
    "pred = pd.concat([pd.read_csv(f, index_col = 0) for f in all_filenames])"
   ]
  },
  {
   "cell_type": "code",
   "execution_count": 264,
   "metadata": {},
   "outputs": [
    {
     "data": {
      "text/html": [
       "<div>\n",
       "<style scoped>\n",
       "    .dataframe tbody tr th:only-of-type {\n",
       "        vertical-align: middle;\n",
       "    }\n",
       "\n",
       "    .dataframe tbody tr th {\n",
       "        vertical-align: top;\n",
       "    }\n",
       "\n",
       "    .dataframe thead th {\n",
       "        text-align: right;\n",
       "    }\n",
       "</style>\n",
       "<table border=\"1\" class=\"dataframe\">\n",
       "  <thead>\n",
       "    <tr style=\"text-align: right;\">\n",
       "      <th></th>\n",
       "      <th>youtube_id</th>\n",
       "      <th>class_id</th>\n",
       "      <th>object_id</th>\n",
       "      <th>image_nb</th>\n",
       "      <th>xmin</th>\n",
       "      <th>xmax</th>\n",
       "      <th>ymin</th>\n",
       "      <th>ymax</th>\n",
       "      <th>found_id</th>\n",
       "      <th>found_prec</th>\n",
       "    </tr>\n",
       "  </thead>\n",
       "  <tbody>\n",
       "    <tr>\n",
       "      <td>0</td>\n",
       "      <td>--6SUm2LGfQ</td>\n",
       "      <td>1</td>\n",
       "      <td>0</td>\n",
       "      <td>2</td>\n",
       "      <td>212.0</td>\n",
       "      <td>86.0</td>\n",
       "      <td>261.0</td>\n",
       "      <td>203.0</td>\n",
       "      <td>0</td>\n",
       "      <td>0.436980</td>\n",
       "    </tr>\n",
       "    <tr>\n",
       "      <td>1</td>\n",
       "      <td>--6SUm2LGfQ</td>\n",
       "      <td>1</td>\n",
       "      <td>0</td>\n",
       "      <td>3</td>\n",
       "      <td>30.0</td>\n",
       "      <td>263.0</td>\n",
       "      <td>81.0</td>\n",
       "      <td>343.0</td>\n",
       "      <td>15</td>\n",
       "      <td>0.647754</td>\n",
       "    </tr>\n",
       "    <tr>\n",
       "      <td>2</td>\n",
       "      <td>--6SUm2LGfQ</td>\n",
       "      <td>1</td>\n",
       "      <td>0</td>\n",
       "      <td>3</td>\n",
       "      <td>0.0</td>\n",
       "      <td>117.0</td>\n",
       "      <td>68.0</td>\n",
       "      <td>245.0</td>\n",
       "      <td>3</td>\n",
       "      <td>0.630265</td>\n",
       "    </tr>\n",
       "    <tr>\n",
       "      <td>3</td>\n",
       "      <td>--6SUm2LGfQ</td>\n",
       "      <td>1</td>\n",
       "      <td>0</td>\n",
       "      <td>11</td>\n",
       "      <td>180.0</td>\n",
       "      <td>81.0</td>\n",
       "      <td>280.0</td>\n",
       "      <td>356.0</td>\n",
       "      <td>0</td>\n",
       "      <td>0.592035</td>\n",
       "    </tr>\n",
       "    <tr>\n",
       "      <td>4</td>\n",
       "      <td>--6SUm2LGfQ</td>\n",
       "      <td>1</td>\n",
       "      <td>0</td>\n",
       "      <td>14</td>\n",
       "      <td>178.0</td>\n",
       "      <td>38.0</td>\n",
       "      <td>289.0</td>\n",
       "      <td>354.0</td>\n",
       "      <td>0</td>\n",
       "      <td>0.464583</td>\n",
       "    </tr>\n",
       "  </tbody>\n",
       "</table>\n",
       "</div>"
      ],
      "text/plain": [
       "    youtube_id class_id object_id image_nb   xmin   xmax   ymin   ymax  \\\n",
       "0  --6SUm2LGfQ        1         0        2  212.0   86.0  261.0  203.0   \n",
       "1  --6SUm2LGfQ        1         0        3   30.0  263.0   81.0  343.0   \n",
       "2  --6SUm2LGfQ        1         0        3    0.0  117.0   68.0  245.0   \n",
       "3  --6SUm2LGfQ        1         0       11  180.0   81.0  280.0  356.0   \n",
       "4  --6SUm2LGfQ        1         0       14  178.0   38.0  289.0  354.0   \n",
       "\n",
       "  found_id  found_prec  \n",
       "0        0    0.436980  \n",
       "1       15    0.647754  \n",
       "2        3    0.630265  \n",
       "3        0    0.592035  \n",
       "4        0    0.464583  "
      ]
     },
     "execution_count": 264,
     "metadata": {},
     "output_type": "execute_result"
    }
   ],
   "source": [
    "pred.head()"
   ]
  },
  {
   "cell_type": "markdown",
   "metadata": {},
   "source": [
    "## Go through all the annotation frames and see if they match with our predictions"
   ]
  },
  {
   "cell_type": "code",
   "execution_count": 222,
   "metadata": {},
   "outputs": [
    {
     "name": "stdout",
     "output_type": "stream",
     "text": [
      "video 0\n",
      "video 100\n",
      "video 200\n",
      "video 300\n",
      "video 400\n",
      "video 500\n",
      "video 600\n",
      "video 700\n",
      "video 800\n",
      "video 900\n",
      "video 1000\n",
      "video 1100\n",
      "video 1200\n",
      "video 1300\n",
      "video 1400\n",
      "video 1500\n",
      "video 1600\n"
     ]
    }
   ],
   "source": [
    "ytbb2yolo = [0, 14, 1, 8, 5, 21, 19, 15, 23, 58, 17, 3, 43, 4, 36, 6, 7, 22, 61, 16, 20, 25, -1, 2]\n",
    "yt_id_all = np.unique(pred.youtube_id)\n",
    "n,c = 0,0\n",
    "rate_list = []\n",
    "nb_frame = 0\n",
    "for k,yt_id in enumerate(yt_id_all):\n",
    "  if k%100 == 0:\n",
    "    print(\"video\",k)\n",
    "  n_vid = 0\n",
    "  c_vid = 0\n",
    "  pred_r = pred[pred.youtube_id == yt_id]\n",
    "  ytbb_r = ytbb[ytbb.youtube_id == yt_id]\n",
    "  for c_id in np.unique(ytbb_r.class_id):\n",
    "    for o_id in np.unique(ytbb_r[ytbb_r.class_id == c_id].object_id):\n",
    "      pred_rr = pred_r[(pred_r.class_id == c_id) & (pred_r.object_id == o_id) ]\n",
    "      ytbb_rr = ytbb_r[(ytbb_r.class_id == c_id) & (ytbb_r.object_id == o_id) ]\n",
    "      for i in range(len(ytbb_rr)):\n",
    "        ytbb_row = ytbb_rr.iloc[i]\n",
    "        nb_frame+=1\n",
    "        if ytbb_row.object_presence == \"present\":\n",
    "          n+=1\n",
    "          n_vid+=1\n",
    "          found = False\n",
    "          pred_rows = pred_rr[(pred_rr.class_id == ytbb_row.class_id) & \\\n",
    "                        (pred_rr.object_id == ytbb_row.object_id) & \\\n",
    "                        (pred_rr.image_nb == (i+1))]\n",
    "         \n",
    "          for j in range(len(pred_rows)):\n",
    "            pred_row = pred_rows.iloc[j]\n",
    "            if pred_row.found_id == ytbb2yolo[int(ytbb_row.class_id)]:\n",
    "              found = True\n",
    "          c+=found\n",
    "          c_vid+=found\n",
    "  if (n_vid != 0):\n",
    "    rate_list.append(c_vid/n_vid)\n",
    "  else:\n",
    "      rate_list.append(-1)\n",
    "rate = c/n"
   ]
  },
  {
   "cell_type": "markdown",
   "metadata": {},
   "source": [
    "## Results"
   ]
  },
  {
   "cell_type": "code",
   "execution_count": 223,
   "metadata": {},
   "outputs": [
    {
     "data": {
      "text/plain": [
       "0.5603700342811051"
      ]
     },
     "execution_count": 223,
     "metadata": {},
     "output_type": "execute_result"
    }
   ],
   "source": [
    "rate"
   ]
  },
  {
   "cell_type": "code",
   "execution_count": 239,
   "metadata": {},
   "outputs": [
    {
     "data": {
      "text/plain": [
       "49717"
      ]
     },
     "execution_count": 239,
     "metadata": {},
     "output_type": "execute_result"
    }
   ],
   "source": [
    "nb_frame"
   ]
  }
 ],
 "metadata": {
  "kernelspec": {
   "display_name": "Python 3",
   "language": "python",
   "name": "python3"
  },
  "language_info": {
   "codemirror_mode": {
    "name": "ipython",
    "version": 3
   },
   "file_extension": ".py",
   "mimetype": "text/x-python",
   "name": "python",
   "nbconvert_exporter": "python",
   "pygments_lexer": "ipython3",
   "version": "3.6.8"
  }
 },
 "nbformat": 4,
 "nbformat_minor": 2
}
